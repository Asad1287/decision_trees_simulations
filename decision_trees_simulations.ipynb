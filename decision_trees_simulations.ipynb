{
  "nbformat": 4,
  "nbformat_minor": 0,
  "metadata": {
    "colab": {
      "provenance": [],
      "authorship_tag": "ABX9TyPc2K8bGmy3uCszjQd8r2RZ",
      "include_colab_link": true
    },
    "kernelspec": {
      "name": "python3",
      "display_name": "Python 3"
    },
    "language_info": {
      "name": "python"
    }
  },
  "cells": [
    {
      "cell_type": "markdown",
      "metadata": {
        "id": "view-in-github",
        "colab_type": "text"
      },
      "source": [
        "<a href=\"https://colab.research.google.com/github/Asad1287/decision_trees_simulations/blob/main/decision_trees_simulations.ipynb\" target=\"_parent\"><img src=\"https://colab.research.google.com/assets/colab-badge.svg\" alt=\"Open In Colab\"/></a>"
      ]
    },
    {
      "cell_type": "markdown",
      "source": [
        "#Decision Simulation using Discrete Event Simulation\n"
      ],
      "metadata": {
        "id": "7_tfHe223rft"
      }
    },
    {
      "cell_type": "markdown",
      "source": [
        "###1. Creating distribution object\n",
        "Since the model will be probablistic we will first create a scipy wrapper class for distributions creations"
      ],
      "metadata": {
        "id": "LMocc6Ia5A8A"
      }
    },
    {
      "cell_type": "code",
      "source": [
        "!pip install simpy\n",
        "import simpy\n",
        "import random\n",
        "from typing import Generator, Type, Dict, List,Union\n",
        "import yaml\n",
        "from abc import ABC, abstractmethod\n",
        "from scipy import stats\n",
        "import matplotlib.pyplot as plt\n",
        "import logging\n",
        "import yaml\n",
        "class Distribution:\n",
        "    def __init__(self, dist_type: str, params: Dict[str, float]):\n",
        "        self.dist_type = dist_type\n",
        "        self.params = params\n",
        "        self.dist = getattr(stats, dist_type)(**params)\n",
        "\n",
        "    def sample(self) -> float:\n",
        "        return self.dist.rvs()\n",
        "\n",
        "def test_uniform_distribution_sampling():\n",
        "    dist = Distribution('uniform', {'loc': 0, 'scale': 10})\n",
        "    sample = dist.sample()\n",
        "    assert isinstance(sample, float)\n",
        "    assert 0 <= sample <= 10\n",
        "    print(\"test success\")\n",
        "\n",
        "def test_exponential_distribution_sampling():\n",
        "    dist = Distribution('expon', {'scale': 2})\n",
        "    sample = dist.sample()\n",
        "    assert isinstance(sample, float)\n",
        "\n",
        "test_uniform_distribution_sampling()\n"
      ],
      "metadata": {
        "id": "D-FBbdmww0li",
        "colab": {
          "base_uri": "https://localhost:8080/"
        },
        "outputId": "69c1e109-f816-4f9f-980d-593d02ce395d"
      },
      "execution_count": 4,
      "outputs": [
        {
          "output_type": "stream",
          "name": "stdout",
          "text": [
            "Requirement already satisfied: simpy in /usr/local/lib/python3.10/dist-packages (4.1.1)\n",
            "test success\n"
          ]
        }
      ]
    },
    {
      "cell_type": "markdown",
      "source": [
        "###2. We will create an entity object to represent the entities entering the simulation, can be modified based on simulation requirements\n"
      ],
      "metadata": {
        "id": "y8crx35x6IiZ"
      }
    },
    {
      "cell_type": "code",
      "source": [
        "class EntityItem:\n",
        "    def __init__(self, name: str, arrival_time: float) -> None:\n",
        "        self.name = name\n",
        "        self.arrival_time = arrival_time\n",
        "        self.start_times = {}\n",
        "        self.end_times = {}\n",
        "        self.costs = {}"
      ],
      "metadata": {
        "id": "ACJQzTbv6Vjy"
      },
      "execution_count": 5,
      "outputs": []
    },
    {
      "cell_type": "markdown",
      "source": [
        "###2. Create a resource for Simpy\n",
        "a resource that can process entities (like customers, packets, etc.) in a simulated environment. The class is highly customizable, allowing for a variety of use cases in simulation studies. Below is an explanation of the key components and functionalities of the Resource class:\n",
        "\n",
        "Constructor Parameters\n",
        "\n",
        "\n",
        "\n",
        "*   env: A simpy.Environment instance, representing the simulation environment in which the resource operates. It's the context where the simulation runs.\n",
        "*   capacity: An integer specifying the number of entities the resource can handle simultaneously. It defines the maximum number of parallel operations.\n",
        "*   service_time_dist: A Distribution instance determining how long it takes to service an entity. This distribution is used to model the variability in service times.\n",
        "*   cost_dist: Another Distribution instance, this time representing the cost associated with servicing an entity. Like service times, costs are also variable and drawn from this distribution.\n",
        "\n",
        "\n",
        "*   name: A string to identify the resource. Useful for logging and tracking within a complex simulation.\n",
        "*   children: An optional list of child Resource instances. These represent any downstream resources that might process an entity after it leaves the current resource. This allows for the modeling of complex, multi-stage processes.\n",
        "\n",
        "Methods\n",
        "\n",
        "add_child(self, child: 'Resource', probability: float) -> None: Adds a child resource to the current resource with a specified probability. This method dynamically expands the simulation model by linking resources, potentially with probabilistic branching.\n",
        "\n",
        "serve(self, entity: EntityItem) -> Generator: This coroutine manages the entire lifecycle of an entity's interaction with the resource. It consists of several steps:\n"
      ],
      "metadata": {
        "id": "B4hj3w8W6ag5"
      }
    },
    {
      "cell_type": "code",
      "source": [
        "!pip install ipytest\n",
        "import ipytest\n",
        "ipytest.autoconfig()\n",
        "from unittest.mock import Mock, create_autospec\n",
        "class Resource:\n",
        "    def __init__(self, env: simpy.Environment, capacity: int, service_time_dist: Distribution, cost_dist: Distribution, name: str,children: List['Resource'] = None) -> None:\n",
        "        self.env = env\n",
        "        self.resource = simpy.Resource(env, capacity)\n",
        "        self.service_time_dist = service_time_dist\n",
        "        self.cost_dist = cost_dist\n",
        "        self.name = name\n",
        "        self.queue_lengths = []\n",
        "        self.children = children if children is not None else []\n",
        "\n",
        "    def add_child(self, child: 'Resource', probability: float) -> None:\n",
        "        self.children.append((child, probability))\n",
        "\n",
        "    def serve(self, entity: EntityItem) -> Generator:\n",
        "        with self.resource.request() as req:\n",
        "            self.queue_lengths.append((self.env.now, len(self.resource.queue)))\n",
        "            yield req\n",
        "            entity.start_times[self.name] = self.env.now\n",
        "            logging.info(f\"EntityItem {entity.name} starts {self.name} service at {self.env.now:.2f}\")\n",
        "            service_time = self.service_time_dist.sample()\n",
        "            yield self.env.timeout(service_time)\n",
        "            entity.end_times[self.name] = self.env.now\n",
        "            logging.info(f\"EntityItem {entity.name} finishes {self.name} service at {self.env.now:.2f}\")\n",
        "            cost = self.cost_dist.sample()\n",
        "            entity.costs[self.name] = cost\n",
        "            logging.info(f\"Cost for {entity.name} at {self.name}: {cost:.2f}\")\n",
        "\"\"\"\n",
        "def test_resource_initialization():\n",
        "    mock_env = Mock(spec=simpy.Environment)\n",
        "    service_time_dist = Mock(spec=Distribution)\n",
        "    cost_dist = Mock(spec=Distribution)\n",
        "    resource = Resource(env=mock_env, capacity=2, service_time_dist=service_time_dist, cost_dist=cost_dist, name=\"TestResource\")\n",
        "\n",
        "    assert resource.name == \"TestResource\"\n",
        "    assert resource.resource.capacity == 2\n",
        "    assert len(resource.queue_lengths) == 0\n",
        "    assert len(resource.children) == 0\n",
        "\n",
        "\n",
        "ipytest.run('-v')\n",
        "\"\"\""
      ],
      "metadata": {
        "id": "wkDKICLC8BOp",
        "colab": {
          "base_uri": "https://localhost:8080/",
          "height": 491
        },
        "outputId": "3615f297-925c-4b7b-e051-08a5f0dcec2f"
      },
      "execution_count": 6,
      "outputs": [
        {
          "output_type": "stream",
          "name": "stdout",
          "text": [
            "Requirement already satisfied: ipytest in /usr/local/lib/python3.10/dist-packages (0.14.0)\n",
            "Requirement already satisfied: ipython in /usr/local/lib/python3.10/dist-packages (from ipytest) (7.34.0)\n",
            "Requirement already satisfied: packaging in /usr/local/lib/python3.10/dist-packages (from ipytest) (24.0)\n",
            "Requirement already satisfied: pytest>=5.4 in /usr/local/lib/python3.10/dist-packages (from ipytest) (7.4.4)\n",
            "Requirement already satisfied: iniconfig in /usr/local/lib/python3.10/dist-packages (from pytest>=5.4->ipytest) (2.0.0)\n",
            "Requirement already satisfied: pluggy<2.0,>=0.12 in /usr/local/lib/python3.10/dist-packages (from pytest>=5.4->ipytest) (1.4.0)\n",
            "Requirement already satisfied: exceptiongroup>=1.0.0rc8 in /usr/local/lib/python3.10/dist-packages (from pytest>=5.4->ipytest) (1.2.0)\n",
            "Requirement already satisfied: tomli>=1.0.0 in /usr/local/lib/python3.10/dist-packages (from pytest>=5.4->ipytest) (2.0.1)\n",
            "Requirement already satisfied: setuptools>=18.5 in /usr/local/lib/python3.10/dist-packages (from ipython->ipytest) (67.7.2)\n",
            "Requirement already satisfied: jedi>=0.16 in /usr/local/lib/python3.10/dist-packages (from ipython->ipytest) (0.19.1)\n",
            "Requirement already satisfied: decorator in /usr/local/lib/python3.10/dist-packages (from ipython->ipytest) (4.4.2)\n",
            "Requirement already satisfied: pickleshare in /usr/local/lib/python3.10/dist-packages (from ipython->ipytest) (0.7.5)\n",
            "Requirement already satisfied: traitlets>=4.2 in /usr/local/lib/python3.10/dist-packages (from ipython->ipytest) (5.7.1)\n",
            "Requirement already satisfied: prompt-toolkit!=3.0.0,!=3.0.1,<3.1.0,>=2.0.0 in /usr/local/lib/python3.10/dist-packages (from ipython->ipytest) (3.0.43)\n",
            "Requirement already satisfied: pygments in /usr/local/lib/python3.10/dist-packages (from ipython->ipytest) (2.16.1)\n",
            "Requirement already satisfied: backcall in /usr/local/lib/python3.10/dist-packages (from ipython->ipytest) (0.2.0)\n",
            "Requirement already satisfied: matplotlib-inline in /usr/local/lib/python3.10/dist-packages (from ipython->ipytest) (0.1.6)\n",
            "Requirement already satisfied: pexpect>4.3 in /usr/local/lib/python3.10/dist-packages (from ipython->ipytest) (4.9.0)\n",
            "Requirement already satisfied: parso<0.9.0,>=0.8.3 in /usr/local/lib/python3.10/dist-packages (from jedi>=0.16->ipython->ipytest) (0.8.3)\n",
            "Requirement already satisfied: ptyprocess>=0.5 in /usr/local/lib/python3.10/dist-packages (from pexpect>4.3->ipython->ipytest) (0.7.0)\n",
            "Requirement already satisfied: wcwidth in /usr/local/lib/python3.10/dist-packages (from prompt-toolkit!=3.0.0,!=3.0.1,<3.1.0,>=2.0.0->ipython->ipytest) (0.2.13)\n"
          ]
        },
        {
          "output_type": "execute_result",
          "data": {
            "text/plain": [
              "'\\ndef test_resource_initialization():\\n    mock_env = Mock(spec=simpy.Environment)\\n    service_time_dist = Mock(spec=Distribution)\\n    cost_dist = Mock(spec=Distribution)\\n    resource = Resource(env=mock_env, capacity=2, service_time_dist=service_time_dist, cost_dist=cost_dist, name=\"TestResource\")\\n    \\n    assert resource.name == \"TestResource\"\\n    assert resource.resource.capacity == 2\\n    assert len(resource.queue_lengths) == 0\\n    assert len(resource.children) == 0\\n\\n\\nipytest.run(\\'-v\\')\\n'"
            ],
            "application/vnd.google.colaboratory.intrinsic+json": {
              "type": "string"
            }
          },
          "metadata": {},
          "execution_count": 6
        }
      ]
    },
    {
      "cell_type": "markdown",
      "source": [
        "###3. Creating the Stop Stage and Decision classes"
      ],
      "metadata": {
        "id": "cAnGNrrJpgdz"
      }
    },
    {
      "cell_type": "code",
      "source": [
        "class SimulationStop(Exception):\n",
        "    pass\n",
        "\n",
        "\n",
        "class StopStage:\n",
        "    def __init__(self, name: str):\n",
        "        self.name = name\n",
        "\n",
        "    def process(self, env: simpy.Environment, entity: EntityItem) -> Generator:\n",
        "        print(f\"Simulation stopped at {env.now:.2f} due to {self.name}\")\n",
        "        raise SimulationStop\n",
        "class Decision:\n",
        "    def __init__(self, probabilities: List[float], resources: List[str]):\n",
        "        self.probabilities = probabilities\n",
        "        self.resources = resources\n",
        "\n",
        "    def choose_resource(self) -> str:\n",
        "        return random.choices(self.resources, self.probabilities)[0]\n",
        "\n",
        "\"\"\"\n",
        "# Tests for the Decision class\n",
        "def test_decision_initialization():\n",
        "    probabilities = [0.5, 0.5]\n",
        "    resources = [\"Resource1\", \"Resource2\"]\n",
        "    decision = Decision(probabilities, resources)\n",
        "\n",
        "    assert decision.probabilities == probabilities\n",
        "    assert decision.resources == resources\n",
        "\n",
        "def test_decision_choose_resource_deterministic():\n",
        "    # Setting the seed to make random choices deterministic for the test\n",
        "    random.seed(0)\n",
        "    probabilities = [0.1, 0.9]\n",
        "    resources = [\"Resource1\", \"Resource2\"]\n",
        "    decision = Decision(probabilities, resources)\n",
        "\n",
        "    # Since \"Resource2\" has a higher probability and we set the seed,\n",
        "    # we expect \"Resource2\" to be chosen in a deterministic manner.\n",
        "    chosen_resource = decision.choose_resource()\n",
        "    assert chosen_resource == \"Resource2\"\n",
        "\n",
        "# Execute the tests\n",
        "ipytest.run('-v')\n",
        "\"\"\""
      ],
      "metadata": {
        "id": "0br1n-LX84EJ",
        "colab": {
          "base_uri": "https://localhost:8080/",
          "height": 126
        },
        "outputId": "d55e2dbc-433a-45a3-bee1-54405bca61ad"
      },
      "execution_count": 7,
      "outputs": [
        {
          "output_type": "execute_result",
          "data": {
            "text/plain": [
              "'\\n# Tests for the Decision class\\ndef test_decision_initialization():\\n    probabilities = [0.5, 0.5]\\n    resources = [\"Resource1\", \"Resource2\"]\\n    decision = Decision(probabilities, resources)\\n    \\n    assert decision.probabilities == probabilities\\n    assert decision.resources == resources\\n\\ndef test_decision_choose_resource_deterministic():\\n    # Setting the seed to make random choices deterministic for the test\\n    random.seed(0)\\n    probabilities = [0.1, 0.9]\\n    resources = [\"Resource1\", \"Resource2\"]\\n    decision = Decision(probabilities, resources)\\n    \\n    # Since \"Resource2\" has a higher probability and we set the seed,\\n    # we expect \"Resource2\" to be chosen in a deterministic manner.\\n    chosen_resource = decision.choose_resource()\\n    assert chosen_resource == \"Resource2\"\\n\\n# Execute the tests\\nipytest.run(\\'-v\\')\\n'"
            ],
            "application/vnd.google.colaboratory.intrinsic+json": {
              "type": "string"
            }
          },
          "metadata": {},
          "execution_count": 7
        }
      ]
    },
    {
      "cell_type": "markdown",
      "source": [
        "### 4. The ProcessFlow class\n",
        "Orchestrates the flow of entities through a network of resources in a discrete-event simulation environment provided by simpy. It models a process where entities (like products, customers, or data packets) move between different resources (machines, service desks, servers, etc.) based on predefined rules and probabilities"
      ],
      "metadata": {
        "id": "LArFplz0s9P0"
      }
    },
    {
      "cell_type": "code",
      "source": [
        "from collections import deque\n",
        "import ipytest\n",
        "ipytest.autoconfig()\n",
        "class ProcessFlow:\n",
        "    def __init__(self, env: simpy.Environment, resources: Dict[str, Resource], entry_point: str) -> None:\n",
        "        self.env = env\n",
        "        self.resources = resources\n",
        "        self.entry_point = entry_point\n",
        "\n",
        "    def probabilistic_selection(self, children):\n",
        "        nodes, probabilities = zip(*children)\n",
        "        return random.choices(nodes, weights=probabilities, k=1)[0]\n",
        "\n",
        "    def process(self, entity: EntityItem) -> Generator:\n",
        "        yield self.env.timeout(entity.arrival_time)\n",
        "        logging.info(f\"EntityItem {entity.name} enters the system at {self.env.now:.2f}\")\n",
        "\n",
        "        visited = set()\n",
        "        queue = deque([self.entry_point])\n",
        "        path = []\n",
        "\n",
        "        while queue:\n",
        "            current_resource_name = queue.popleft()\n",
        "            if current_resource_name not in visited:\n",
        "                visited.add(current_resource_name)\n",
        "                path.append(current_resource_name)\n",
        "\n",
        "                current_resource = self.resources[current_resource_name]\n",
        "                yield from current_resource.serve(entity)\n",
        "\n",
        "                if current_resource.children:\n",
        "                    selected_child = self.probabilistic_selection(current_resource.children)\n",
        "                    queue.append(selected_child.name)\n",
        "\n",
        "        logging.info(f\"EntityItem {entity.name} leaves the system at {self.env.now:.2f}\")\n",
        "        logging.info(f\"Path taken: {' -> '.join(path)}\")\n",
        "\n"
      ],
      "metadata": {
        "id": "-LnoUuuTnGy7"
      },
      "execution_count": 8,
      "outputs": []
    },
    {
      "cell_type": "markdown",
      "source": [
        "### 5. The SimulationStats class\n",
        "It is designed for gathering and presenting statistical data about entities and resources in a simulation. It serves to analyze waiting times, service times, and total costs associated with each resource, as well as providing visualizations for queue lengths and total costs"
      ],
      "metadata": {
        "id": "AXHHkyzesifE"
      }
    },
    {
      "cell_type": "code",
      "source": [
        "class SimulationStats:\n",
        "    def __init__(self, entities: List[EntityItem], resources: List[Resource]) -> None:\n",
        "        self.entities = entities\n",
        "        self.resources = resources\n",
        "\n",
        "    def calculate_stats(self) -> None:\n",
        "        waiting_times = {}\n",
        "        service_times = {}\n",
        "\n",
        "\n",
        "        for entity in self.entities:\n",
        "            for resource_name in self.resources:\n",
        "                if resource_name.name in entity.start_times and resource_name.name in entity.end_times:\n",
        "                    waiting_time = entity.start_times[resource_name.name] - entity.arrival_time\n",
        "                    service_time = entity.end_times[resource_name.name] - entity.start_times[resource_name.name]\n",
        "\n",
        "                    if resource_name.name not in waiting_times:\n",
        "                        waiting_times[resource_name.name] = []\n",
        "                        service_times[resource_name.name] = []\n",
        "\n",
        "                    waiting_times[resource_name.name].append(waiting_time)\n",
        "                    service_times[resource_name.name].append(service_time)\n",
        "        total_costs = {}\n",
        "        for entity in self.entities:\n",
        "            for resource_name, cost in entity.costs.items():\n",
        "                if resource_name not in total_costs:\n",
        "                    total_costs[resource_name] = []\n",
        "                total_costs[resource_name].append(cost)\n",
        "\n",
        "        print(\"\\nTotal Costs:\")\n",
        "        for resource_name, costs in total_costs.items():\n",
        "            total_cost = sum(costs)\n",
        "            print(f\"{resource_name}: {total_cost:.2f}\")\n",
        "\n",
        "        self.plot_total_costs(total_costs)\n",
        "\n",
        "        print(\"Average Waiting Times:\")\n",
        "        for resource_name, times in waiting_times.items():\n",
        "            avg_waiting_time = sum(times) / len(times) if times else 0\n",
        "            print(f\"{resource_name}: {avg_waiting_time:.2f}\")\n",
        "\n",
        "        print(\"\\nAverage Service Times:\")\n",
        "        for resource_name, times in service_times.items():\n",
        "            avg_service_time = sum(times) / len(times) if times else 0\n",
        "            print(f\"{resource_name}: {avg_service_time:.2f}\")\n",
        "\n",
        "    def plot_queue_lengths(self) -> None:\n",
        "        for resource in self.resources:\n",
        "            if resource.queue_lengths:\n",
        "                times, lengths = zip(*resource.queue_lengths)\n",
        "                plt.figure()\n",
        "                plt.plot(times, lengths)\n",
        "                plt.title(f\"Queue Length - {resource.name}\")\n",
        "                plt.xlabel(\"Simulation Time\")\n",
        "                plt.ylabel(\"Queue Length\")\n",
        "                plt.show()\n",
        "            else:\n",
        "                print(f\"No queue length data available for {resource.name}\")\n",
        "    def plot_total_costs(self, total_costs: Dict[str, List[float]]) -> None:\n",
        "        resources = list(total_costs.keys())\n",
        "        costs = [sum(costs) for costs in total_costs.values()]\n",
        "        print(f\"total costs is {sum(costs)}\")\n",
        "        plt.figure()\n",
        "        plt.bar(resources, costs)\n",
        "        plt.title(\"Total Costs by Resource\")\n",
        "        plt.xlabel(\"Resource\")\n",
        "        plt.ylabel(\"Total Cost\")\n",
        "        plt.show()\n",
        "\n"
      ],
      "metadata": {
        "id": "ed1XtXU1nYWm"
      },
      "execution_count": 9,
      "outputs": []
    },
    {
      "cell_type": "code",
      "source": [
        "class Simulation:\n",
        "    def __init__(self, num_entities: int, resource_configs: Dict[str, Dict], entry_point: str,\n",
        "                 entity_class: Type[EntityItem], inter_arrival_time_dist: Distribution,return_plots:bool=False):\n",
        "        self.num_entities = num_entities\n",
        "        self.resource_configs = resource_configs\n",
        "        self.entry_point = entry_point\n",
        "        self.entity_class = entity_class\n",
        "        self.inter_arrival_time_dist = inter_arrival_time_dist\n",
        "        self.entities = []\n",
        "        self.return_plots = return_plots\n",
        "\n",
        "    def run_simulation(self) -> simpy.Environment:\n",
        "        env = simpy.Environment()\n",
        "        resources = {}\n",
        "\n",
        "        # Create resources without assigning children\n",
        "        for resource_name, config in self.resource_configs.items():\n",
        "            service_time_dist = Distribution(config['service_time_dist'], config['service_time_params'])\n",
        "            cost_dist = Distribution(config['cost_dist'], config['cost_params'])\n",
        "            resource = Resource(env, config['capacity'], service_time_dist, cost_dist, resource_name)\n",
        "            resources[resource_name] = resource\n",
        "\n",
        "        # Assign children to resources\n",
        "        for resource_name, config in self.resource_configs.items():\n",
        "            resource = resources[resource_name]\n",
        "            for child_name, probability in config.get('children', []):\n",
        "                child_resource = resources[child_name]\n",
        "                resource.add_child(child_resource, probability)\n",
        "\n",
        "        process_flow = ProcessFlow(env, resources, self.entry_point)\n",
        "\n",
        "        for i in range(self.num_entities):\n",
        "            arrival_time = self.inter_arrival_time_dist.sample()\n",
        "            entity = self.entity_class(f\"Patient {i+1}\", arrival_time)\n",
        "            self.entities.append(entity)\n",
        "            env.process(process_flow.process(entity))\n",
        "\n",
        "        try:\n",
        "            env.run()\n",
        "        except SimulationStop:\n",
        "            print(\"Simulation stopped.\")\n",
        "\n",
        "        if self.return_plots:\n",
        "           stats = SimulationStats(self.entities, list(resources.values()))\n",
        "           stats.calculate_stats()\n",
        "           stats.plot_queue_lengths()\n",
        "        return env"
      ],
      "metadata": {
        "id": "VjZgbQpanY3_"
      },
      "execution_count": 10,
      "outputs": []
    },
    {
      "cell_type": "code",
      "source": [
        "class Runner:\n",
        "    def __init__(self, num_simulations: int, num_patients: int, resource_configs: Dict[str, Dict], entry_point: str,\n",
        "                 entity_class: Type[EntityItem], inter_arrival_time_dist: Distribution) -> None:\n",
        "        self.num_simulations = num_simulations\n",
        "        self.num_patients = num_patients\n",
        "        self.resource_configs = resource_configs\n",
        "        self.entry_point = entry_point\n",
        "        self.entity_class = entity_class\n",
        "        self.inter_arrival_time_dist = inter_arrival_time_dist\n",
        "\n",
        "    def run_simulations(self) -> None:\n",
        "        total_costs = []\n",
        "        total_times = []\n",
        "\n",
        "        for i in range(self.num_simulations):\n",
        "            logging.info(f\"Running simulation {i+1}/{self.num_simulations}\")\n",
        "            simulation = Simulation(self.num_patients, self.resource_configs, self.entry_point, self.entity_class, self.inter_arrival_time_dist)\n",
        "            env = simulation.run_simulation()\n",
        "\n",
        "            total_cost = sum(sum(entity.costs.values()) for entity in simulation.entities)\n",
        "            total_time = env.now\n",
        "\n",
        "            total_costs.append(total_cost)\n",
        "            total_times.append(total_time)\n",
        "\n",
        "        self.plot_histogram(total_costs, \"Total Cost\")\n",
        "        self.plot_histogram(total_times, \"Total Time\")\n",
        "\n",
        "        self.fit_distribution(total_costs, \"Total Cost\")\n",
        "        self.fit_distribution(total_times, \"Total Time\")\n",
        "\n",
        "    def plot_histogram(self, data: List[float], title: str) -> None:\n",
        "        plt.figure()\n",
        "        plt.hist(data, bins=20, edgecolor='black')\n",
        "        plt.title(f\"Histogram of {title}\")\n",
        "        plt.xlabel(title)\n",
        "        plt.ylabel(\"Frequency\")\n",
        "        plt.show()\n",
        "\n",
        "    def fit_distribution(self, data: List[float], title: str) -> None:\n",
        "        dist_names = ['norm', 'expon', 'gamma', 'lognorm', 'weibull_min', 'weibull_max']\n",
        "        best_dist = None\n",
        "        best_params = None\n",
        "        best_sse = float('inf')\n",
        "\n",
        "        for dist_name in dist_names:\n",
        "            dist = getattr(stats, dist_name)\n",
        "            params = dist.fit(data)\n",
        "            pdf = dist.pdf(data, *params)\n",
        "            sse = sum((pdf - data) ** 2)\n",
        "\n",
        "            if sse < best_sse:\n",
        "                best_dist = dist\n",
        "                best_params = params\n",
        "                best_sse = sse\n",
        "\n",
        "        print(f\"\\nBest fit distribution for {title}: {best_dist.name}\")\n",
        "        print(f\"Distribution parameters: {best_params}\")\n"
      ],
      "metadata": {
        "id": "a6p-tmlAnhNO"
      },
      "execution_count": 11,
      "outputs": []
    },
    {
      "cell_type": "markdown",
      "source": [
        "```yaml\n",
        "   start:\n",
        "  capacity: 1\n",
        "  service_time_dist: uniform\n",
        "  service_time_params:\n",
        "    loc: 1\n",
        "    scale: 2\n",
        "  cost_dist: uniform\n",
        "  cost_params:\n",
        "    loc: 0\n",
        "    scale: 0\n",
        "  children:\n",
        "    - chooseTicketA: 0.5\n",
        "    - chooseTicketB: 0.5\n",
        "\n",
        "chooseTicketA:\n",
        "  capacity: 1\n",
        "  service_time_dist: uniform\n",
        "  service_time_params:\n",
        "    loc: 1\n",
        "    scale: 2\n",
        "  cost_dist: uniform\n",
        "  cost_params:\n",
        "    loc: -3\n",
        "    scale: 0\n",
        "  children:\n",
        "    - Match1AWin: 0.5\n",
        "    - Match1BWin: 0.5\n",
        "\n",
        "chooseTicketB:\n",
        "  capacity: 1\n",
        "  service_time_dist: uniform\n",
        "  service_time_params:\n",
        "    loc: 2\n",
        "    scale: 2\n",
        "  cost_dist: uniform\n",
        "  cost_params:\n",
        "    loc: -5\n",
        "    scale: 0\n",
        "  children:\n",
        "    - Match2AWin: 0.5\n",
        "    - Match2BWin: 0.5\n",
        "\n",
        "Match1AWin:\n",
        "  capacity: 1\n",
        "  service_time_dist: uniform\n",
        "  service_time_params:\n",
        "    loc: 2\n",
        "    scale: 2\n",
        "  cost_dist: uniform\n",
        "  cost_params:\n",
        "    loc: 10\n",
        "    scale: 0\n",
        "\n",
        "Match1BWin:\n",
        "  capacity: 1\n",
        "  service_time_dist: uniform\n",
        "  service_time_params:\n",
        "    loc: 3\n",
        "    scale: 3\n",
        "  cost_dist: uniform\n",
        "  cost_params:\n",
        "    loc: -5\n",
        "    scale: 0\n",
        "\n",
        "Match2AWin:\n",
        "  capacity: 1\n",
        "  service_time_dist: uniform\n",
        "  service_time_params:\n",
        "    loc: 3\n",
        "    scale: 3\n",
        "  cost_dist: uniform\n",
        "  cost_params:\n",
        "    loc: -20\n",
        "    scale: 0\n",
        "\n",
        "Match2BWin:\n",
        "  capacity: 1\n",
        "  service_time_dist: uniform\n",
        "  service_time_params:\n",
        "    loc: 3\n",
        "    scale: 3\n",
        "  cost_dist: uniform\n",
        "  cost_params:\n",
        "    loc: 5\n",
        "    scale: 0"
      ],
      "metadata": {
        "id": "pFlGnHgfn8D4"
      }
    },
    {
      "cell_type": "code",
      "source": [
        "\n",
        "def load_resource_config(file_path):\n",
        "    with open(file_path, 'r') as file:\n",
        "        config = yaml.safe_load(file)\n",
        "\n",
        "    resource_configs = {}\n",
        "    for resource_name, resource_data in config.items():\n",
        "        children = [(child_name, probability) for child_data in resource_data.get('children', []) for child_name, probability in child_data.items()]\n",
        "        resource_configs[resource_name] = {\n",
        "            'capacity': resource_data['capacity'],\n",
        "            'service_time_dist': resource_data['service_time_dist'],\n",
        "            'service_time_params': resource_data['service_time_params'],\n",
        "            'cost_dist': resource_data['cost_dist'],\n",
        "            'cost_params': resource_data['cost_params'],\n",
        "            'children': children\n",
        "        }\n",
        "\n",
        "    return resource_configs\n",
        "\n",
        "if __name__ == \"__main__\":\n",
        "    num_simulations = 10\n",
        "    num_entities_per_sim = 1\n",
        "    file_path = 'simulation.yaml'\n",
        "    resource_configs = load_resource_config(file_path)\n",
        "\n",
        "    entry_point = 'start'\n",
        "    inter_arrival_time_dist = Distribution('uniform', {'loc': 0, 'scale': 5})\n",
        "\n",
        "    runner = Runner(num_simulations, num_entities_per_sim, resource_configs, entry_point, EntityItem, inter_arrival_time_dist)\n",
        "    runner.run_simulations()"
      ],
      "metadata": {
        "colab": {
          "base_uri": "https://localhost:8080/",
          "height": 1000
        },
        "id": "rd02zcmcuySO",
        "outputId": "59dfe086-3945-4d5a-c92f-30a08311a9c4"
      },
      "execution_count": 19,
      "outputs": [
        {
          "output_type": "display_data",
          "data": {
            "text/plain": [
              "<Figure size 640x480 with 1 Axes>"
            ],
            "image/png": "[encoded data removed]"
          },
          "metadata": {}
        },
        {
          "output_type": "display_data",
          "data": {
            "text/plain": [
              "<Figure size 640x480 with 1 Axes>"
            ],
            "image/png": "[encoded data removed]"
          },
          "metadata": {}
        },
        {
          "output_type": "stream",
          "name": "stdout",
          "text": [
            "\n",
            "Best fit distribution for Total Cost: weibull_min\n",
            "Distribution parameters: (112159506.17615552, -9569562106980.984, 9569562077639.59)\n",
            "\n",
            "Best fit distribution for Total Time: expon\n",
            "Distribution parameters: (10.287721218220462, 4.64886737530713)\n"
          ]
        }
      ]
    },
    {
      "cell_type": "markdown",
      "source": [
        "### Example Oil Drilling Case study:"
      ],
      "metadata": {
        "id": "srR7pMtSvuDA"
      }
    },
    {
      "cell_type": "markdown",
      "source": [
        "start:\n",
        "  capacity: 1\n",
        "  service_time_dist: uniform\n",
        "  service_time_params:\n",
        "    loc: 1\n",
        "    scale: 2\n",
        "  cost_dist: uniform\n",
        "  cost_params:\n",
        "    loc: 0\n",
        "    scale: 0\n",
        "  children:\n",
        "    - Test: 0.25\n",
        "    - DontTest: 0.75\n",
        "\n",
        "Test:\n",
        "  capacity: 1\n",
        "  service_time_dist: uniform\n",
        "  service_time_params:\n",
        "    loc: 10\n",
        "    scale: 2\n",
        "  cost_dist: uniform\n",
        "  cost_params:\n",
        "    loc: -300000\n",
        "    scale: 0\n",
        "  children:\n",
        "    - None: 0.25\n",
        "    - Open: 0.25\n",
        "    - Closed: 0.5\n",
        "\n",
        "DontTest:\n",
        "  capacity: 1\n",
        "  service_time_dist: uniform\n",
        "  service_time_params:\n",
        "    loc: 2\n",
        "    scale: 2\n",
        "  cost_dist: uniform\n",
        "  cost_params:\n",
        "    loc: -5\n",
        "    scale: 0\n",
        "  children:\n",
        "    - Drill: 0.5\n",
        "    - DontDrill: 0.5\n",
        "\n",
        "None:\n",
        "  capacity: 1\n",
        "  service_time_dist: uniform\n",
        "  service_time_params:\n",
        "    loc: 2\n",
        "    scale: 2\n",
        "  cost_dist: uniform\n",
        "  cost_params:\n",
        "    loc: 10\n",
        "    scale: 0\n",
        "  children:\n",
        "    - Drill: 0.5\n",
        "    - DontDrill: 0.5\n",
        "\n",
        "Open:\n",
        "  capacity: 1\n",
        "  service_time_dist: uniform\n",
        "  service_time_params:\n",
        "    loc: 2\n",
        "    scale: 2\n",
        "  cost_dist: uniform\n",
        "  cost_params:\n",
        "    loc: 10\n",
        "    scale: 0\n",
        "  children:\n",
        "    - Drill: 0.5\n",
        "    - DontDrill: 0.5\n",
        "\n",
        "Closed:\n",
        "  capacity: 1\n",
        "  service_time_dist: uniform\n",
        "  service_time_params:\n",
        "    loc: 2\n",
        "    scale: 2\n",
        "  cost_dist: uniform\n",
        "  cost_params:\n",
        "    loc: 10\n",
        "    scale: 0\n",
        "  children:\n",
        "    - Drill: 0.5\n",
        "    - DontDrill: 0.5\n",
        "\n",
        "Drill:\n",
        "  capacity: 1\n",
        "  service_time_dist: uniform\n",
        "  service_time_params:\n",
        "    loc: 2\n",
        "    scale: 2\n",
        "  cost_dist: uniform\n",
        "  cost_params:\n",
        "    loc: 10\n",
        "    scale: 0\n",
        "  children:\n",
        "    - Dry: 0.3\n",
        "    - Wet: 0.2\n",
        "    - Soaking: 0.5\n",
        "\n",
        "DontDrill:\n",
        "  capacity: 1\n",
        "  service_time_dist: uniform\n",
        "  service_time_params:\n",
        "    loc: 2\n",
        "    scale: 2\n",
        "  cost_dist: uniform\n",
        "  cost_params:\n",
        "    loc: 10\n",
        "    scale: 0\n",
        "\n",
        "Dry:\n",
        "  capacity: 1\n",
        "  service_time_dist: uniform\n",
        "  service_time_params:\n",
        "    loc: 2\n",
        "    scale: 2\n",
        "  cost_dist: uniform\n",
        "  cost_params:\n",
        "    loc: 10\n",
        "    scale: 0\n",
        "\n",
        "Wet:\n",
        "  capacity: 1\n",
        "  service_time_dist: uniform\n",
        "  service_time_params:\n",
        "    loc: 2\n",
        "    scale: 2\n",
        "  cost_dist: uniform\n",
        "  cost_params:\n",
        "    loc: 10\n",
        "    scale: 0\n",
        "\n",
        "Soaking:\n",
        "  capacity: 1\n",
        "  service_time_dist: uniform\n",
        "  service_time_params:\n",
        "    loc: 2\n",
        "    scale: 2\n",
        "  cost_dist: uniform\n",
        "  cost_params:\n",
        "    loc: 10\n",
        "    scale: 0\n",
        "\n",
        "\n"
      ],
      "metadata": {
        "id": "5897_p_2yCXw"
      }
    },
    {
      "cell_type": "code",
      "source": [
        "def load_resource_config(file_path):\n",
        "    with open(file_path, 'r') as file:\n",
        "        config = yaml.safe_load(file)\n",
        "\n",
        "    resource_configs = {}\n",
        "    for resource_name, resource_data in config.items():\n",
        "        children = [(child_name, probability) for child_data in resource_data.get('children', []) for child_name, probability in child_data.items()]\n",
        "        resource_configs[resource_name] = {\n",
        "            'capacity': resource_data['capacity'],\n",
        "            'service_time_dist': resource_data['service_time_dist'],\n",
        "            'service_time_params': resource_data['service_time_params'],\n",
        "            'cost_dist': resource_data['cost_dist'],\n",
        "            'cost_params': resource_data['cost_params'],\n",
        "            'children': children\n",
        "        }\n",
        "\n",
        "    return resource_configs\n",
        "\n",
        "if __name__ == \"__main__\":\n",
        "    num_simulations = 10\n",
        "    num_entities_per_sim = 1\n",
        "    file_path = 'simulation.yaml'\n",
        "    resource_configs = load_resource_config(file_path)\n",
        "\n",
        "    entry_point = 'start'\n",
        "    inter_arrival_time_dist = Distribution('uniform', {'loc': 0, 'scale': 5})\n",
        "\n",
        "    runner = Runner(num_simulations, num_entities_per_sim, resource_configs, entry_point, EntityItem, inter_arrival_time_dist)\n",
        "    runner.run_simulations()"
      ],
      "metadata": {
        "colab": {
          "base_uri": "https://localhost:8080/",
          "height": 1000
        },
        "id": "sCbZHqy2v-8T",
        "outputId": "21b3f217-1806-4fc4-b33f-d1b1129e4191"
      },
      "execution_count": 20,
      "outputs": [
        {
          "output_type": "display_data",
          "data": {
            "text/plain": [
              "<Figure size 640x480 with 1 Axes>"
            ],
            "image/png": "[encoded data removed]"
          },
          "metadata": {}
        },
        {
          "output_type": "display_data",
          "data": {
            "text/plain": [
              "<Figure size 640x480 with 1 Axes>"
            ],
            "image/png": "[encoded data removed]"
          },
          "metadata": {}
        },
        {
          "output_type": "stream",
          "name": "stdout",
          "text": [
            "\n",
            "Best fit distribution for Total Cost: weibull_min\n",
            "Distribution parameters: (86502711.8761599, -7380408926368.059, 7380408897025.547)\n",
            "\n",
            "Best fit distribution for Total Time: expon\n",
            "Distribution parameters: (9.076984669718197, 6.334794507424389)\n"
          ]
        }
      ]
    }
  ]
}